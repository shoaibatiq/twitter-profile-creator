{
 "cells": [
  {
   "cell_type": "code",
   "execution_count": null,
   "metadata": {},
   "outputs": [],
   "source": [
    "import imaplib\n",
    "import email\n",
    "from time import sleep\n",
    "import re"
   ]
  },
  {
   "cell_type": "code",
   "execution_count": null,
   "metadata": {},
   "outputs": [],
   "source": [
    "def get_emails(username, password, _from):\n",
    "    gmail_host= 'imap.gmail.com'\n",
    "    #set connection\n",
    "    mail = imaplib.IMAP4_SSL(gmail_host)\n",
    "    #login\n",
    "    mail.login(username, password)\n",
    "    #select inbox\n",
    "    mail.select(\"INBOX\")\n",
    "    #select specific mails\n",
    "    _, selected_mails = mail.search(None, f'(FROM \"{_from}\")')\n",
    "    #total number of mails from specific user\n",
    "    total_mails = len(selected_mails[0].split())\n",
    "    # print(\"Total Messages from noreply@kaggle.com:\" , total_mails)\n",
    "    all_emails = []\n",
    "    for num in selected_mails[0].split():\n",
    "        _email = {}\n",
    "        _, data = mail.fetch(num , '(RFC822)')\n",
    "        _, bytes_data = data[0]\n",
    "        #convert the byte data to message\n",
    "        email_message = email.message_from_bytes(bytes_data)\n",
    "        #access data\n",
    "        _email[\"subject\"] = email_message[\"subject\"]\n",
    "        _email['to'] =  email_message[\"to\"]\n",
    "        _email['from'] = email_message[\"from\"]\n",
    "        _email['date'] = email_message[\"date\"]\n",
    "        _email['message'] = ''\n",
    "        for part in email_message.walk():\n",
    "            if part.get_content_type()==\"text/plain\" or part.get_content_type()==\"text/html\":\n",
    "                message = part.get_payload(decode=True)\n",
    "                _email['message'] += message.decode()\n",
    "                break\n",
    "        all_emails.append(_email)\n",
    "    return all_emails"
   ]
  },
  {
   "cell_type": "code",
   "execution_count": null,
   "metadata": {},
   "outputs": [],
   "source": [
    "email_username =\"<EMAIL>\"\n",
    "email_password= \"<PASS>\""
   ]
  },
  {
   "cell_type": "code",
   "execution_count": null,
   "metadata": {},
   "outputs": [],
   "source": [
    "xpaths = {\n",
    "    'signup_btn': '//span[contains(text(), \"phone\")]//ancestor::div[@role=\"button\"]',\n",
    "    'name_input': '//input[@name=\"name\"]',\n",
    "    'phone_input': '//input[@name=\"phone_number\"]',\n",
    "    'dob_month': '//select[@aria-labelledby=\"SELECTOR_1_LABEL\"]',\n",
    "    'dob_day': '//select[@aria-labelledby=\"SELECTOR_2_LABEL\"]',\n",
    "    'dob_year': '//select[@aria-labelledby=\"SELECTOR_3_LABEL\"]',\n",
    "    'next_btn': '//span[contains(text(), \"Next\")]//ancestor::div[@role=\"button\"]',\n",
    "    'signup_btn2': '//span[contains(text(), \"Sign up\")]//ancestor::div[@role=\"button\"]',\n",
    "    'phone_ok_btn': '//span[contains(text(), \"OK\")]//ancestor::div[@role=\"button\"]',\n",
    "    'varf_input': '//input[@name=\"verfication_code\"]',\n",
    "    'pswd_input': '//input[@name=\"password\"]',\n",
    "    'skip_btn': '//span[contains(text(), \"Skip\")]//ancestor::div[@role=\"button\"]',\n",
    "    'follow_btn': '//span[contains(text(), \"Follow\")]//ancestor::div[@role=\"button\"]',\n",
    "    'email_input': '//input[@name=\"email\"]',\n",
    "    'varf_btn': '//span[contains(text(), \"Verify\")]//ancestor::div[@role=\"button\"]',\n",
    "    'project_name_input': '//input[@name=\"accountName\"]',\n",
    "    'country_select': '//select[@name=\"countryOfOperation\"]',\n",
    "    'use_case_select': '//select[@name=\"useCase\"]',\n",
    "    'is_gov_select': '//select[@name=\"isGovernmentEntity\"]',\n",
    "    'dashboard_next_btn': '//button[@data-testid=\"right-button\"]',\n",
    "    'terms_input': '//input[@name=\"terms\"]',\n",
    "    'app_name_input': '//input[@type=\"text\"]',\n",
    "    'get_keys_btn': '//button[@data-testid=\"add-app-continue-button\"]',\n",
    "    'dashboard_projects': '//div[@id=\"sidebar-menu-projects-and-apps\"]//button',\n",
    "    'project_btn': '//*[text()=\"Project 1\"]//ancestor::div[@role=\"menuitem\"]//button',\n",
    "    'keys_btn': '//a[contains(@href,\"keys\")]',\n",
    "    'genrate_btns': '//span[contains(text(), \"enerate\")]//ancestor::button',\n",
    "    'genrate_confirm': '//button[@data-testid=\"confirmation-dev-portal-dialog-action-button\"]',\n",
    "    'cred_name': '//*[@data-testid=\"credential-information-name\"]',\n",
    "    'cred_info': '//*[@data-testid=\"credential-information-credential\"]',\n",
    "    'creds_saved_btn': '//span[contains(text(),\"saved\")]//parent::button'\n",
    "\n",
    "}"
   ]
  },
  {
   "cell_type": "code",
   "execution_count": null,
   "metadata": {},
   "outputs": [],
   "source": [
    "from selenium import webdriver"
   ]
  },
  {
   "cell_type": "code",
   "execution_count": null,
   "metadata": {},
   "outputs": [],
   "source": [
    "from sms_activate import SmsActivate # SMSActivateAPI Contains all basic tools for working with the SMSActivate API\n",
    "SMS_API_KEY = \"<API_KEY>\"\n",
    "\n",
    "sa = SmsActivate(SMS_API_KEY)\n",
    "\n",
    "sa.debug_mode = True"
   ]
  },
  {
   "cell_type": "code",
   "execution_count": null,
   "metadata": {},
   "outputs": [],
   "source": [
    "from selenium import webdriver\n",
    "from driverActions import DriverActions"
   ]
  },
  {
   "cell_type": "code",
   "execution_count": null,
   "metadata": {},
   "outputs": [],
   "source": [
    "from selenium.webdriver.support.ui import Select"
   ]
  },
  {
   "cell_type": "code",
   "execution_count": null,
   "metadata": {},
   "outputs": [],
   "source": [
    "driver = webdriver.Chrome()"
   ]
  },
  {
   "cell_type": "code",
   "execution_count": null,
   "metadata": {},
   "outputs": [],
   "source": [
    "driver_actions = DriverActions(driver)"
   ]
  },
  {
   "cell_type": "code",
   "execution_count": null,
   "metadata": {},
   "outputs": [],
   "source": [
    "driver.get('https://twitter.com/i/flow/signup')"
   ]
  },
  {
   "cell_type": "code",
   "execution_count": null,
   "metadata": {},
   "outputs": [],
   "source": [
    "name = 'marco'\n",
    "dob_month = \"August\"\n",
    "dob_day = \"18\"\n",
    "dob_year = '1992'\n",
    "password = \"marco123s@#\""
   ]
  },
  {
   "cell_type": "code",
   "execution_count": null,
   "metadata": {},
   "outputs": [],
   "source": [
    "driver_actions.click(xpaths['signup_btn'])"
   ]
  },
  {
   "cell_type": "code",
   "execution_count": null,
   "metadata": {},
   "outputs": [],
   "source": [
    "driver_actions.human_typer(xpaths['name_input'], name)"
   ]
  },
  {
   "cell_type": "code",
   "execution_count": null,
   "metadata": {},
   "outputs": [],
   "source": [
    "id, phone = sa.get_number('tw', country=78)\n",
    "sa.set_status(1, id)"
   ]
  },
  {
   "cell_type": "code",
   "execution_count": null,
   "metadata": {},
   "outputs": [],
   "source": [
    "driver_actions.human_typer(xpaths['phone_input'], '+' + phone)"
   ]
  },
  {
   "cell_type": "code",
   "execution_count": null,
   "metadata": {},
   "outputs": [],
   "source": [
    "dob_month_el = Select(driver.find_element_by_xpath(xpaths['dob_month']))"
   ]
  },
  {
   "cell_type": "code",
   "execution_count": null,
   "metadata": {},
   "outputs": [],
   "source": [
    "dob_day_el  = Select(driver.find_element_by_xpath(xpaths['dob_day']))\n",
    "dob_year_el = Select(driver.find_element_by_xpath(xpaths['dob_year']))"
   ]
  },
  {
   "cell_type": "code",
   "execution_count": null,
   "metadata": {},
   "outputs": [],
   "source": [
    "dob_month_el.select_by_visible_text(dob_month)\n",
    "dob_day_el.select_by_value(dob_day)\n",
    "dob_year_el.select_by_value(dob_year)"
   ]
  },
  {
   "cell_type": "code",
   "execution_count": null,
   "metadata": {},
   "outputs": [],
   "source": [
    "driver_actions.click(xpaths['next_btn'])"
   ]
  },
  {
   "cell_type": "code",
   "execution_count": null,
   "metadata": {},
   "outputs": [],
   "source": [
    "driver_actions.random_wait(2,3)"
   ]
  },
  {
   "cell_type": "code",
   "execution_count": null,
   "metadata": {},
   "outputs": [],
   "source": [
    "driver_actions.click(xpaths['next_btn'])"
   ]
  },
  {
   "cell_type": "code",
   "execution_count": null,
   "metadata": {},
   "outputs": [],
   "source": [
    "driver_actions.click(xpaths['signup_btn2'])"
   ]
  },
  {
   "cell_type": "code",
   "execution_count": null,
   "metadata": {},
   "outputs": [],
   "source": [
    "driver_actions.click(xpaths['phone_ok_btn'])"
   ]
  },
  {
   "cell_type": "code",
   "execution_count": null,
   "metadata": {},
   "outputs": [],
   "source": [
    "def get_code(id):\n",
    "    while True:\n",
    "        msg = sa.get_full_sms(id) #'STATUS_WAIT_CODE'\n",
    "        if msg == 'STATUS_WAIT_CODE':\n",
    "            sleep(10)\n",
    "            continue\n",
    "        code = re.findall('\\d+', msg)[0]\n",
    "        return code"
   ]
  },
  {
   "cell_type": "code",
   "execution_count": null,
   "metadata": {},
   "outputs": [],
   "source": [
    "code = get_code(id)"
   ]
  },
  {
   "cell_type": "code",
   "execution_count": null,
   "metadata": {},
   "outputs": [],
   "source": [
    "driver_actions.human_typer(xpaths['varf_input'], code)"
   ]
  },
  {
   "cell_type": "code",
   "execution_count": null,
   "metadata": {},
   "outputs": [],
   "source": [
    "driver_actions.click(xpaths['next_btn'])"
   ]
  },
  {
   "cell_type": "code",
   "execution_count": null,
   "metadata": {},
   "outputs": [],
   "source": [
    "driver_actions.random_wait(3, 4)"
   ]
  },
  {
   "cell_type": "code",
   "execution_count": null,
   "metadata": {},
   "outputs": [],
   "source": [
    "driver_actions.human_typer(xpaths['pswd_input'], password)"
   ]
  },
  {
   "cell_type": "code",
   "execution_count": null,
   "metadata": {},
   "outputs": [],
   "source": [
    "driver_actions.random_wait(1.5, 2)"
   ]
  },
  {
   "cell_type": "code",
   "execution_count": null,
   "metadata": {},
   "outputs": [],
   "source": [
    "driver_actions.click(xpaths['next_btn'])"
   ]
  },
  {
   "cell_type": "code",
   "execution_count": null,
   "metadata": {},
   "outputs": [],
   "source": [
    "## Dosen't really matter\n",
    "for _ in range(4):\n",
    "    try:\n",
    "        driver_actions.click(xpaths['skip_btn'], wait=5)\n",
    "        driver_actions.random_wait(1.5,2)\n",
    "    except: pass\n",
    "try:\n",
    "    driver_actions.click(xpaths['next_btn'])\n",
    "    driver_actions.click(xpaths['follow_btn'])\n",
    "    driver_actions.click(xpaths['next_btn'])\n",
    "except: pass"
   ]
  },
  {
   "cell_type": "code",
   "execution_count": null,
   "metadata": {},
   "outputs": [],
   "source": [
    "driver.get('https://twitter.com/i/flow/add_email')"
   ]
  },
  {
   "cell_type": "code",
   "execution_count": null,
   "metadata": {},
   "outputs": [],
   "source": [
    "driver_actions.random_wait(1.5, 2)"
   ]
  },
  {
   "cell_type": "code",
   "execution_count": null,
   "metadata": {},
   "outputs": [],
   "source": [
    "driver_actions.human_typer(xpaths['pswd_input'], password)"
   ]
  },
  {
   "cell_type": "code",
   "execution_count": null,
   "metadata": {},
   "outputs": [],
   "source": [
    "driver_actions.click(xpaths['next_btn'])"
   ]
  },
  {
   "cell_type": "code",
   "execution_count": null,
   "metadata": {},
   "outputs": [],
   "source": [
    "driver_actions.human_typer(xpaths['email_input'], email_username)"
   ]
  },
  {
   "cell_type": "code",
   "execution_count": null,
   "metadata": {},
   "outputs": [],
   "source": [
    "driver_actions.click(xpaths['next_btn'])"
   ]
  },
  {
   "cell_type": "code",
   "execution_count": null,
   "metadata": {},
   "outputs": [],
   "source": [
    "def get_varf_email(email_username, email_password, sender):\n",
    "    while True:\n",
    "        emails = get_emails(email_username, email_password, sender)\n",
    "        if not len(emails):\n",
    "            sleep(10)\n",
    "            continue\n",
    "        varf_email = emails[-1]\n",
    "        message = varf_email['message']\n",
    "        # varf_link = re.findall('https.*verify', message)[0]\n",
    "        return message"
   ]
  },
  {
   "cell_type": "code",
   "execution_count": null,
   "metadata": {},
   "outputs": [],
   "source": [
    "varf_email = get_varf_email(email_username, email_password, \"verify@twitter.com\")"
   ]
  },
  {
   "cell_type": "code",
   "execution_count": null,
   "metadata": {},
   "outputs": [],
   "source": [
    "varf_code = re.findall('\\d+', varf_email)[0]"
   ]
  },
  {
   "cell_type": "code",
   "execution_count": null,
   "metadata": {},
   "outputs": [],
   "source": [
    "driver_actions.human_typer(xpaths['varf_input'], varf_code)"
   ]
  },
  {
   "cell_type": "code",
   "execution_count": null,
   "metadata": {},
   "outputs": [],
   "source": [
    "driver_actions.click(xpaths['varf_btn'])"
   ]
  },
  {
   "cell_type": "code",
   "execution_count": null,
   "metadata": {},
   "outputs": [],
   "source": [
    "#developer portal"
   ]
  },
  {
   "cell_type": "code",
   "execution_count": null,
   "metadata": {},
   "outputs": [],
   "source": [
    "driver_actions.random_wait(15, 20)"
   ]
  },
  {
   "cell_type": "code",
   "execution_count": null,
   "metadata": {},
   "outputs": [],
   "source": [
    "driver.get(\"https://developer.twitter.com/en/portal/dashboard\")"
   ]
  },
  {
   "cell_type": "code",
   "execution_count": null,
   "metadata": {},
   "outputs": [],
   "source": [
    "import random\n",
    "project_name = 'my-test-app-' + str(random.randint(111111,99999999999))"
   ]
  },
  {
   "cell_type": "code",
   "execution_count": null,
   "metadata": {},
   "outputs": [],
   "source": [
    "driver_actions.click('//button[text()=\"Accept\"]') #<<xpaths"
   ]
  },
  {
   "cell_type": "code",
   "execution_count": null,
   "metadata": {},
   "outputs": [],
   "source": [
    "driver_actions.human_typer(xpaths['project_name_input'], project_name)"
   ]
  },
  {
   "cell_type": "code",
   "execution_count": null,
   "metadata": {},
   "outputs": [],
   "source": [
    "country_el = Select(driver.find_element_by_xpath(xpaths['country_select']))"
   ]
  },
  {
   "cell_type": "code",
   "execution_count": null,
   "metadata": {},
   "outputs": [],
   "source": [
    "country_el.select_by_value('US')"
   ]
  },
  {
   "cell_type": "code",
   "execution_count": null,
   "metadata": {},
   "outputs": [],
   "source": [
    "use_case_el = Select(driver.find_element_by_xpath(xpaths['use_case_select']))"
   ]
  },
  {
   "cell_type": "code",
   "execution_count": null,
   "metadata": {},
   "outputs": [],
   "source": [
    "use_case_el.select_by_visible_text(\"Student\")"
   ]
  },
  {
   "cell_type": "code",
   "execution_count": null,
   "metadata": {},
   "outputs": [],
   "source": [
    "is_gov_el = Select(driver.find_element_by_xpath(xpaths['is_gov_select']))"
   ]
  },
  {
   "cell_type": "code",
   "execution_count": null,
   "metadata": {},
   "outputs": [],
   "source": [
    "is_gov_el.select_by_value('false')"
   ]
  },
  {
   "cell_type": "code",
   "execution_count": null,
   "metadata": {},
   "outputs": [],
   "source": [
    "while True:\n",
    "    try:\n",
    "        driver_actions.click(xpaths['dashboard_next_btn'])\n",
    "        break\n",
    "    except: driver_actions.random_wait(1,2)"
   ]
  },
  {
   "cell_type": "code",
   "execution_count": null,
   "metadata": {},
   "outputs": [],
   "source": [
    "driver_actions.random_wait(7, 10)"
   ]
  },
  {
   "cell_type": "code",
   "execution_count": null,
   "metadata": {},
   "outputs": [],
   "source": [
    "driver_actions.click(xpaths['terms_input'])"
   ]
  },
  {
   "cell_type": "code",
   "execution_count": null,
   "metadata": {},
   "outputs": [],
   "source": [
    "driver_actions.click(xpaths['dashboard_next_btn'])"
   ]
  },
  {
   "cell_type": "code",
   "execution_count": null,
   "metadata": {},
   "outputs": [],
   "source": [
    "varf_email = get_varf_email(email_username, email_password, \"developer-accounts@twitter.com\")"
   ]
  },
  {
   "cell_type": "code",
   "execution_count": null,
   "metadata": {},
   "outputs": [],
   "source": [
    "varf_link = re.findall('https://developer.*verify', varf_email)[0]"
   ]
  },
  {
   "cell_type": "code",
   "execution_count": null,
   "metadata": {},
   "outputs": [],
   "source": [
    "driver.get(varf_link)"
   ]
  },
  {
   "cell_type": "code",
   "execution_count": null,
   "metadata": {},
   "outputs": [],
   "source": [
    "driver_actions.human_typer(xpaths['app_name_input'], project_name)"
   ]
  },
  {
   "cell_type": "code",
   "execution_count": null,
   "metadata": {},
   "outputs": [],
   "source": [
    "driver_actions.click(xpaths['get_keys_btn'])"
   ]
  },
  {
   "cell_type": "code",
   "execution_count": null,
   "metadata": {},
   "outputs": [],
   "source": [
    "driver.get('https://developer.twitter.com/en/portal/projects/')"
   ]
  },
  {
   "cell_type": "code",
   "execution_count": null,
   "metadata": {},
   "outputs": [],
   "source": [
    "driver_actions.click(xpaths['dashboard_projects'])"
   ]
  },
  {
   "cell_type": "code",
   "execution_count": null,
   "metadata": {},
   "outputs": [],
   "source": [
    "el = driver.find_element_by_xpath(xpaths['dashboard_projects'])"
   ]
  },
  {
   "cell_type": "code",
   "execution_count": null,
   "metadata": {},
   "outputs": [],
   "source": [
    "driver_actions.click(xpaths['project_btn']) #<<change_xpath"
   ]
  },
  {
   "cell_type": "code",
   "execution_count": null,
   "metadata": {},
   "outputs": [],
   "source": [
    "keys_link = driver.find_element('xpath', xpaths['keys_btn']).get_attribute('href')"
   ]
  },
  {
   "cell_type": "code",
   "execution_count": null,
   "metadata": {},
   "outputs": [],
   "source": [
    "driver.get(keys_link)"
   ]
  },
  {
   "cell_type": "code",
   "execution_count": null,
   "metadata": {},
   "outputs": [],
   "source": [
    "creds = {}"
   ]
  },
  {
   "cell_type": "code",
   "execution_count": null,
   "metadata": {},
   "outputs": [],
   "source": [
    "for i in range(3):\n",
    "    genrate_btns = driver.find_elements('xpath', xpaths['genrate_btns'])\n",
    "    genrate_btn = genrate_btns[i]\n",
    "    genrate_btn.click()\n",
    "\n",
    "    try: driver_actions.click(xpaths['genrate_confirm'], wait=5) \n",
    "    except: pass\n",
    "    creds_names = driver.find_elements('xpath', xpaths['cred_name'])\n",
    "    creds_names = [i.text for i in creds_names]\n",
    "    creds_info  = driver.find_elements('xpath', xpaths['cred_info'])\n",
    "    creds_info = [i.text for i in creds_info]\n",
    "    for ind, key in enumerate(creds_names):\n",
    "        creds[key] = creds_info[ind]\n",
    "    driver_actions.click(xpaths['creds_saved_btn'])\n",
    "    driver_actions.random_wait(1.5, 4)\n"
   ]
  },
  {
   "cell_type": "code",
   "execution_count": null,
   "metadata": {},
   "outputs": [],
   "source": []
  }
 ],
 "metadata": {
  "interpreter": {
   "hash": "bae55d6b11bb5543d425b9c04169f3c4cce7e4f02bdc9f5ec602fd3874a335cf"
  },
  "kernelspec": {
   "display_name": "Python 3.10.2 64-bit",
   "language": "python",
   "name": "python3"
  },
  "language_info": {
   "codemirror_mode": {
    "name": "ipython",
    "version": 3
   },
   "file_extension": ".py",
   "mimetype": "text/x-python",
   "name": "python",
   "nbconvert_exporter": "python",
   "pygments_lexer": "ipython3",
   "version": "3.10.2"
  },
  "orig_nbformat": 4
 },
 "nbformat": 4,
 "nbformat_minor": 2
}
