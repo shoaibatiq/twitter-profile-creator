{
 "cells": [
  {
   "cell_type": "code",
   "execution_count": 1,
   "metadata": {},
   "outputs": [],
   "source": [
    "import imaplib\n",
    "import email\n",
    "from time import sleep\n",
    "import re"
   ]
  },
  {
   "cell_type": "code",
   "execution_count": 2,
   "metadata": {},
   "outputs": [],
   "source": [
    "def get_emails(username, password, _from):\n",
    "    gmail_host= 'imap.gmail.com'\n",
    "    #set connection\n",
    "    mail = imaplib.IMAP4_SSL(gmail_host)\n",
    "    #login\n",
    "    mail.login(username, password)\n",
    "    #select inbox\n",
    "    mail.select(\"INBOX\")\n",
    "    #select specific mails\n",
    "    _, selected_mails = mail.search(None, f'(FROM \"{_from}\")')\n",
    "    #total number of mails from specific user\n",
    "    total_mails = len(selected_mails[0].split())\n",
    "    # print(\"Total Messages from noreply@kaggle.com:\" , total_mails)\n",
    "    all_emails = []\n",
    "    for num in selected_mails[0].split():\n",
    "        _email = {}\n",
    "        _, data = mail.fetch(num , '(RFC822)')\n",
    "        _, bytes_data = data[0]\n",
    "        #convert the byte data to message\n",
    "        email_message = email.message_from_bytes(bytes_data)\n",
    "        #access data\n",
    "        _email[\"subject\"] = email_message[\"subject\"]\n",
    "        _email['to'] =  email_message[\"to\"]\n",
    "        _email['from'] = email_message[\"from\"]\n",
    "        _email['date'] = email_message[\"date\"]\n",
    "        _email['message'] = ''\n",
    "        for part in email_message.walk():\n",
    "            if part.get_content_type()==\"text/plain\" or part.get_content_type()==\"text/html\":\n",
    "                message = part.get_payload(decode=True)\n",
    "                _email['message'] += message.decode()\n",
    "                break\n",
    "        all_emails.append(_email)\n",
    "    return all_emails"
   ]
  },
  {
   "cell_type": "code",
   "execution_count": 3,
   "metadata": {},
   "outputs": [],
   "source": [
    "email_username =\"danilkobakov49@gmail.com\"\n",
    "email_password= \"4573443G3vM1D\""
   ]
  },
  {
   "cell_type": "code",
   "execution_count": null,
   "metadata": {},
   "outputs": [],
   "source": [
    "xpaths = {\n",
    "    'signup_btn': '//span[contains(text(), \"phone\")]//ancestor::div[@role=\"button\"]',\n",
    "    'name_input': '//input[@name=\"name\"]',\n",
    "    'phone_input': '//input[@name=\"phone_number\"]',\n",
    "    'dob_month': '//select[@aria-labelledby=\"SELECTOR_1_LABEL\"]',\n",
    "    'dob_day': '//select[@aria-labelledby=\"SELECTOR_2_LABEL\"]',\n",
    "    'dob_year': '//select[@aria-labelledby=\"SELECTOR_3_LABEL\"]',\n",
    "    'next_btn': '//span[contains(text(), \"Next\")]//ancestor::div[@role=\"button\"]',\n",
    "    'signup_btn2': '//span[contains(text(), \"Sign up\")]//ancestor::div[@role=\"button\"]',\n",
    "    'phone_ok_btn': '//span[contains(text(), \"OK\")]//ancestor::div[@role=\"button\"]',\n",
    "    'varf_input': '//input[@name=\"verfication_code\"]',\n",
    "    'pswd_input': '//input[@name=\"password\"]',\n",
    "    'skip_btn': '//span[contains(text(), \"Skip\")]//ancestor::div[@role=\"button\"]',\n",
    "    'follow_btn': '//span[contains(text(), \"Follow\")]//ancestor::div[@role=\"button\"]',\n",
    "    'email_input': '//input[@name=\"email\"]',\n",
    "    'varf_btn': '//span[contains(text(), \"Verify\")]//ancestor::div[@role=\"button\"]',\n",
    "    'project_name_input': '//input[@name=\"accountName\"]',\n",
    "    'country_select': '//select[@name=\"countryOfOperation\"]',\n",
    "    'use_case_select': '//select[@name=\"useCase\"]',\n",
    "    'is_gov_select': '//select[@name=\"isGovernmentEntity\"]',\n",
    "    'dashboard_next_btn': '//button[@data-testid=\"right-button\"]',\n",
    "    'terms_input': '//input[@name=\"terms\"]',\n",
    "    'app_name_input': '//input[@type=\"text\"]',\n",
    "    'get_keys_btn': '//button[@data-testid=\"add-app-continue-button\"]',\n",
    "    'dashboard_projects': '//div[@id=\"sidebar-menu-projects-and-apps\"]//button',\n",
    "    'project_btn': '//*[text()=\"Project 1\"]//ancestor::div[@role=\"menuitem\"]//button',\n",
    "    'keys_btn': '//a[contains(@href,\"keys\")]',\n",
    "    'genrate_btns': '//span[contains(text(), \"enerate\")]//ancestor::button',\n",
    "    'genrate_confirm': '//button[@data-testid=\"confirmation-dev-portal-dialog-action-button\"]',\n",
    "    'cred_name': '//*[@data-testid=\"credential-information-name\"]',\n",
    "    'cred_info': '//*[@data-testid=\"credential-information-credential\"]',\n",
    "    'creds_saved_btn': '//span[contains(text(),\"saved\")]//parent::button'\n",
    "\n",
    "}"
   ]
  },
  {
   "cell_type": "code",
   "execution_count": 4,
   "metadata": {},
   "outputs": [],
   "source": [
    "from selenium import webdriver"
   ]
  },
  {
   "cell_type": "code",
   "execution_count": 5,
   "metadata": {},
   "outputs": [],
   "source": [
    "from sms_activate import SmsActivate # SMSActivateAPI Contains all basic tools for working with the SMSActivate API\n",
    "SMS_API_KEY = \"B2cB6353434Bcd3269d933B024eff0B2\"\n",
    "\n",
    "sa = SmsActivate(SMS_API_KEY)\n",
    "\n",
    "sa.debug_mode = True"
   ]
  },
  {
   "cell_type": "code",
   "execution_count": 7,
   "metadata": {},
   "outputs": [
    {
     "ename": "KeyboardInterrupt",
     "evalue": "",
     "output_type": "error",
     "traceback": [
      "\u001b[1;31m---------------------------------------------------------------------------\u001b[0m",
      "\u001b[1;31mKeyboardInterrupt\u001b[0m                         Traceback (most recent call last)",
      "\u001b[1;32mc:\\Users\\shoai\\Documents\\py\\twitter-profile-creator\\test.ipynb Cell 7'\u001b[0m in \u001b[0;36m<cell line: 2>\u001b[1;34m()\u001b[0m\n\u001b[0;32m      <a href='vscode-notebook-cell:/c%3A/Users/shoai/Documents/py/twitter-profile-creator/test.ipynb#ch0000006?line=0'>1</a>\u001b[0m number \u001b[39m=\u001b[39m sa\u001b[39m.\u001b[39mget_number(\u001b[39m'\u001b[39m\u001b[39mtw\u001b[39m\u001b[39m'\u001b[39m, country\u001b[39m=\u001b[39m\u001b[39m78\u001b[39m)\n\u001b[1;32m----> <a href='vscode-notebook-cell:/c%3A/Users/shoai/Documents/py/twitter-profile-creator/test.ipynb#ch0000006?line=1'>2</a>\u001b[0m sa\u001b[39m.\u001b[39;49mset_status(\u001b[39m1\u001b[39;49m, number[\u001b[39m0\u001b[39;49m])\n\u001b[0;32m      <a href='vscode-notebook-cell:/c%3A/Users/shoai/Documents/py/twitter-profile-creator/test.ipynb#ch0000006?line=2'>3</a>\u001b[0m \u001b[39mdef\u001b[39;00m \u001b[39mget_code\u001b[39m(\u001b[39mid\u001b[39m):\n\u001b[0;32m      <a href='vscode-notebook-cell:/c%3A/Users/shoai/Documents/py/twitter-profile-creator/test.ipynb#ch0000006?line=3'>4</a>\u001b[0m     \u001b[39mwhile\u001b[39;00m \u001b[39mTrue\u001b[39;00m:\n",
      "File \u001b[1;32mc:\\Users\\shoai\\Documents\\py\\twitter-profile-creator\\sms_activate.py:37\u001b[0m, in \u001b[0;36mSmsActivate.set_status\u001b[1;34m(self, status, number_id, forward)\u001b[0m\n\u001b[0;32m     <a href='file:///c%3A/Users/shoai/Documents/py/twitter-profile-creator/sms_activate.py?line=35'>36</a>\u001b[0m \u001b[39mdef\u001b[39;00m \u001b[39mset_status\u001b[39m(\u001b[39mself\u001b[39m, status, number_id, forward\u001b[39m=\u001b[39m\u001b[39m'\u001b[39m\u001b[39m'\u001b[39m):\n\u001b[1;32m---> <a href='file:///c%3A/Users/shoai/Documents/py/twitter-profile-creator/sms_activate.py?line=36'>37</a>\u001b[0m     \u001b[39mreturn\u001b[39;00m \u001b[39mself\u001b[39;49m\u001b[39m.\u001b[39;49m__request({\u001b[39m'\u001b[39;49m\u001b[39maction\u001b[39;49m\u001b[39m'\u001b[39;49m: \u001b[39m'\u001b[39;49m\u001b[39msetStatus\u001b[39;49m\u001b[39m'\u001b[39;49m, \u001b[39m'\u001b[39;49m\u001b[39mstatus\u001b[39;49m\u001b[39m'\u001b[39;49m: status, \u001b[39m'\u001b[39;49m\u001b[39mid\u001b[39;49m\u001b[39m'\u001b[39;49m: number_id, \u001b[39m'\u001b[39;49m\u001b[39mforward\u001b[39;49m\u001b[39m'\u001b[39;49m: forward})\u001b[39m.\u001b[39mtext\n",
      "File \u001b[1;32mc:\\Users\\shoai\\Documents\\py\\twitter-profile-creator\\sms_activate.py:14\u001b[0m, in \u001b[0;36mSmsActivate.__request\u001b[1;34m(self, params)\u001b[0m\n\u001b[0;32m     <a href='file:///c%3A/Users/shoai/Documents/py/twitter-profile-creator/sms_activate.py?line=11'>12</a>\u001b[0m         request_params[_key] \u001b[39m=\u001b[39m _value\n\u001b[0;32m     <a href='file:///c%3A/Users/shoai/Documents/py/twitter-profile-creator/sms_activate.py?line=12'>13</a>\u001b[0m \u001b[39mtry\u001b[39;00m:\n\u001b[1;32m---> <a href='file:///c%3A/Users/shoai/Documents/py/twitter-profile-creator/sms_activate.py?line=13'>14</a>\u001b[0m     \u001b[39mreturn\u001b[39;00m requests\u001b[39m.\u001b[39;49mget(\u001b[39m'\u001b[39;49m\u001b[39mhttps://sms-activate.ru/stubs/handler_api.php\u001b[39;49m\u001b[39m'\u001b[39;49m, request_params)\n\u001b[0;32m     <a href='file:///c%3A/Users/shoai/Documents/py/twitter-profile-creator/sms_activate.py?line=14'>15</a>\u001b[0m \u001b[39mexcept\u001b[39;00m(\u001b[39mConnectionError\u001b[39;00m, \u001b[39mTimeoutError\u001b[39;00m):\n\u001b[0;32m     <a href='file:///c%3A/Users/shoai/Documents/py/twitter-profile-creator/sms_activate.py?line=15'>16</a>\u001b[0m     \u001b[39mreturn\u001b[39;00m \u001b[39m'\u001b[39m\u001b[39mNO_CONNECTION\u001b[39m\u001b[39m'\u001b[39m\n",
      "File \u001b[1;32m~\\AppData\\Local\\Programs\\Python\\Python310\\lib\\site-packages\\requests\\api.py:75\u001b[0m, in \u001b[0;36mget\u001b[1;34m(url, params, **kwargs)\u001b[0m\n\u001b[0;32m     <a href='file:///c%3A/Users/shoai/AppData/Local/Programs/Python/Python310/lib/site-packages/requests/api.py?line=63'>64</a>\u001b[0m \u001b[39mdef\u001b[39;00m \u001b[39mget\u001b[39m(url, params\u001b[39m=\u001b[39m\u001b[39mNone\u001b[39;00m, \u001b[39m*\u001b[39m\u001b[39m*\u001b[39mkwargs):\n\u001b[0;32m     <a href='file:///c%3A/Users/shoai/AppData/Local/Programs/Python/Python310/lib/site-packages/requests/api.py?line=64'>65</a>\u001b[0m     \u001b[39mr\u001b[39m\u001b[39m\"\"\"Sends a GET request.\u001b[39;00m\n\u001b[0;32m     <a href='file:///c%3A/Users/shoai/AppData/Local/Programs/Python/Python310/lib/site-packages/requests/api.py?line=65'>66</a>\u001b[0m \n\u001b[0;32m     <a href='file:///c%3A/Users/shoai/AppData/Local/Programs/Python/Python310/lib/site-packages/requests/api.py?line=66'>67</a>\u001b[0m \u001b[39m    :param url: URL for the new :class:`Request` object.\u001b[39;00m\n\u001b[1;32m   (...)\u001b[0m\n\u001b[0;32m     <a href='file:///c%3A/Users/shoai/AppData/Local/Programs/Python/Python310/lib/site-packages/requests/api.py?line=71'>72</a>\u001b[0m \u001b[39m    :rtype: requests.Response\u001b[39;00m\n\u001b[0;32m     <a href='file:///c%3A/Users/shoai/AppData/Local/Programs/Python/Python310/lib/site-packages/requests/api.py?line=72'>73</a>\u001b[0m \u001b[39m    \"\"\"\u001b[39;00m\n\u001b[1;32m---> <a href='file:///c%3A/Users/shoai/AppData/Local/Programs/Python/Python310/lib/site-packages/requests/api.py?line=74'>75</a>\u001b[0m     \u001b[39mreturn\u001b[39;00m request(\u001b[39m'\u001b[39m\u001b[39mget\u001b[39m\u001b[39m'\u001b[39m, url, params\u001b[39m=\u001b[39mparams, \u001b[39m*\u001b[39m\u001b[39m*\u001b[39mkwargs)\n",
      "File \u001b[1;32m~\\AppData\\Local\\Programs\\Python\\Python310\\lib\\site-packages\\requests\\api.py:61\u001b[0m, in \u001b[0;36mrequest\u001b[1;34m(method, url, **kwargs)\u001b[0m\n\u001b[0;32m     <a href='file:///c%3A/Users/shoai/AppData/Local/Programs/Python/Python310/lib/site-packages/requests/api.py?line=56'>57</a>\u001b[0m \u001b[39m# By using the 'with' statement we are sure the session is closed, thus we\u001b[39;00m\n\u001b[0;32m     <a href='file:///c%3A/Users/shoai/AppData/Local/Programs/Python/Python310/lib/site-packages/requests/api.py?line=57'>58</a>\u001b[0m \u001b[39m# avoid leaving sockets open which can trigger a ResourceWarning in some\u001b[39;00m\n\u001b[0;32m     <a href='file:///c%3A/Users/shoai/AppData/Local/Programs/Python/Python310/lib/site-packages/requests/api.py?line=58'>59</a>\u001b[0m \u001b[39m# cases, and look like a memory leak in others.\u001b[39;00m\n\u001b[0;32m     <a href='file:///c%3A/Users/shoai/AppData/Local/Programs/Python/Python310/lib/site-packages/requests/api.py?line=59'>60</a>\u001b[0m \u001b[39mwith\u001b[39;00m sessions\u001b[39m.\u001b[39mSession() \u001b[39mas\u001b[39;00m session:\n\u001b[1;32m---> <a href='file:///c%3A/Users/shoai/AppData/Local/Programs/Python/Python310/lib/site-packages/requests/api.py?line=60'>61</a>\u001b[0m     \u001b[39mreturn\u001b[39;00m session\u001b[39m.\u001b[39mrequest(method\u001b[39m=\u001b[39mmethod, url\u001b[39m=\u001b[39murl, \u001b[39m*\u001b[39m\u001b[39m*\u001b[39mkwargs)\n",
      "File \u001b[1;32m~\\AppData\\Local\\Programs\\Python\\Python310\\lib\\site-packages\\requests\\sessions.py:529\u001b[0m, in \u001b[0;36mSession.request\u001b[1;34m(self, method, url, params, data, headers, cookies, files, auth, timeout, allow_redirects, proxies, hooks, stream, verify, cert, json)\u001b[0m\n\u001b[0;32m    <a href='file:///c%3A/Users/shoai/AppData/Local/Programs/Python/Python310/lib/site-packages/requests/sessions.py?line=523'>524</a>\u001b[0m send_kwargs \u001b[39m=\u001b[39m {\n\u001b[0;32m    <a href='file:///c%3A/Users/shoai/AppData/Local/Programs/Python/Python310/lib/site-packages/requests/sessions.py?line=524'>525</a>\u001b[0m     \u001b[39m'\u001b[39m\u001b[39mtimeout\u001b[39m\u001b[39m'\u001b[39m: timeout,\n\u001b[0;32m    <a href='file:///c%3A/Users/shoai/AppData/Local/Programs/Python/Python310/lib/site-packages/requests/sessions.py?line=525'>526</a>\u001b[0m     \u001b[39m'\u001b[39m\u001b[39mallow_redirects\u001b[39m\u001b[39m'\u001b[39m: allow_redirects,\n\u001b[0;32m    <a href='file:///c%3A/Users/shoai/AppData/Local/Programs/Python/Python310/lib/site-packages/requests/sessions.py?line=526'>527</a>\u001b[0m }\n\u001b[0;32m    <a href='file:///c%3A/Users/shoai/AppData/Local/Programs/Python/Python310/lib/site-packages/requests/sessions.py?line=527'>528</a>\u001b[0m send_kwargs\u001b[39m.\u001b[39mupdate(settings)\n\u001b[1;32m--> <a href='file:///c%3A/Users/shoai/AppData/Local/Programs/Python/Python310/lib/site-packages/requests/sessions.py?line=528'>529</a>\u001b[0m resp \u001b[39m=\u001b[39m \u001b[39mself\u001b[39m\u001b[39m.\u001b[39msend(prep, \u001b[39m*\u001b[39m\u001b[39m*\u001b[39msend_kwargs)\n\u001b[0;32m    <a href='file:///c%3A/Users/shoai/AppData/Local/Programs/Python/Python310/lib/site-packages/requests/sessions.py?line=530'>531</a>\u001b[0m \u001b[39mreturn\u001b[39;00m resp\n",
      "File \u001b[1;32m~\\AppData\\Local\\Programs\\Python\\Python310\\lib\\site-packages\\requests\\sessions.py:645\u001b[0m, in \u001b[0;36mSession.send\u001b[1;34m(self, request, **kwargs)\u001b[0m\n\u001b[0;32m    <a href='file:///c%3A/Users/shoai/AppData/Local/Programs/Python/Python310/lib/site-packages/requests/sessions.py?line=641'>642</a>\u001b[0m start \u001b[39m=\u001b[39m preferred_clock()\n\u001b[0;32m    <a href='file:///c%3A/Users/shoai/AppData/Local/Programs/Python/Python310/lib/site-packages/requests/sessions.py?line=643'>644</a>\u001b[0m \u001b[39m# Send the request\u001b[39;00m\n\u001b[1;32m--> <a href='file:///c%3A/Users/shoai/AppData/Local/Programs/Python/Python310/lib/site-packages/requests/sessions.py?line=644'>645</a>\u001b[0m r \u001b[39m=\u001b[39m adapter\u001b[39m.\u001b[39msend(request, \u001b[39m*\u001b[39m\u001b[39m*\u001b[39mkwargs)\n\u001b[0;32m    <a href='file:///c%3A/Users/shoai/AppData/Local/Programs/Python/Python310/lib/site-packages/requests/sessions.py?line=646'>647</a>\u001b[0m \u001b[39m# Total elapsed time of the request (approximately)\u001b[39;00m\n\u001b[0;32m    <a href='file:///c%3A/Users/shoai/AppData/Local/Programs/Python/Python310/lib/site-packages/requests/sessions.py?line=647'>648</a>\u001b[0m elapsed \u001b[39m=\u001b[39m preferred_clock() \u001b[39m-\u001b[39m start\n",
      "File \u001b[1;32m~\\AppData\\Local\\Programs\\Python\\Python310\\lib\\site-packages\\requests\\adapters.py:440\u001b[0m, in \u001b[0;36mHTTPAdapter.send\u001b[1;34m(self, request, stream, timeout, verify, cert, proxies)\u001b[0m\n\u001b[0;32m    <a href='file:///c%3A/Users/shoai/AppData/Local/Programs/Python/Python310/lib/site-packages/requests/adapters.py?line=437'>438</a>\u001b[0m \u001b[39mtry\u001b[39;00m:\n\u001b[0;32m    <a href='file:///c%3A/Users/shoai/AppData/Local/Programs/Python/Python310/lib/site-packages/requests/adapters.py?line=438'>439</a>\u001b[0m     \u001b[39mif\u001b[39;00m \u001b[39mnot\u001b[39;00m chunked:\n\u001b[1;32m--> <a href='file:///c%3A/Users/shoai/AppData/Local/Programs/Python/Python310/lib/site-packages/requests/adapters.py?line=439'>440</a>\u001b[0m         resp \u001b[39m=\u001b[39m conn\u001b[39m.\u001b[39;49murlopen(\n\u001b[0;32m    <a href='file:///c%3A/Users/shoai/AppData/Local/Programs/Python/Python310/lib/site-packages/requests/adapters.py?line=440'>441</a>\u001b[0m             method\u001b[39m=\u001b[39;49mrequest\u001b[39m.\u001b[39;49mmethod,\n\u001b[0;32m    <a href='file:///c%3A/Users/shoai/AppData/Local/Programs/Python/Python310/lib/site-packages/requests/adapters.py?line=441'>442</a>\u001b[0m             url\u001b[39m=\u001b[39;49murl,\n\u001b[0;32m    <a href='file:///c%3A/Users/shoai/AppData/Local/Programs/Python/Python310/lib/site-packages/requests/adapters.py?line=442'>443</a>\u001b[0m             body\u001b[39m=\u001b[39;49mrequest\u001b[39m.\u001b[39;49mbody,\n\u001b[0;32m    <a href='file:///c%3A/Users/shoai/AppData/Local/Programs/Python/Python310/lib/site-packages/requests/adapters.py?line=443'>444</a>\u001b[0m             headers\u001b[39m=\u001b[39;49mrequest\u001b[39m.\u001b[39;49mheaders,\n\u001b[0;32m    <a href='file:///c%3A/Users/shoai/AppData/Local/Programs/Python/Python310/lib/site-packages/requests/adapters.py?line=444'>445</a>\u001b[0m             redirect\u001b[39m=\u001b[39;49m\u001b[39mFalse\u001b[39;49;00m,\n\u001b[0;32m    <a href='file:///c%3A/Users/shoai/AppData/Local/Programs/Python/Python310/lib/site-packages/requests/adapters.py?line=445'>446</a>\u001b[0m             assert_same_host\u001b[39m=\u001b[39;49m\u001b[39mFalse\u001b[39;49;00m,\n\u001b[0;32m    <a href='file:///c%3A/Users/shoai/AppData/Local/Programs/Python/Python310/lib/site-packages/requests/adapters.py?line=446'>447</a>\u001b[0m             preload_content\u001b[39m=\u001b[39;49m\u001b[39mFalse\u001b[39;49;00m,\n\u001b[0;32m    <a href='file:///c%3A/Users/shoai/AppData/Local/Programs/Python/Python310/lib/site-packages/requests/adapters.py?line=447'>448</a>\u001b[0m             decode_content\u001b[39m=\u001b[39;49m\u001b[39mFalse\u001b[39;49;00m,\n\u001b[0;32m    <a href='file:///c%3A/Users/shoai/AppData/Local/Programs/Python/Python310/lib/site-packages/requests/adapters.py?line=448'>449</a>\u001b[0m             retries\u001b[39m=\u001b[39;49m\u001b[39mself\u001b[39;49m\u001b[39m.\u001b[39;49mmax_retries,\n\u001b[0;32m    <a href='file:///c%3A/Users/shoai/AppData/Local/Programs/Python/Python310/lib/site-packages/requests/adapters.py?line=449'>450</a>\u001b[0m             timeout\u001b[39m=\u001b[39;49mtimeout\n\u001b[0;32m    <a href='file:///c%3A/Users/shoai/AppData/Local/Programs/Python/Python310/lib/site-packages/requests/adapters.py?line=450'>451</a>\u001b[0m         )\n\u001b[0;32m    <a href='file:///c%3A/Users/shoai/AppData/Local/Programs/Python/Python310/lib/site-packages/requests/adapters.py?line=452'>453</a>\u001b[0m     \u001b[39m# Send the request.\u001b[39;00m\n\u001b[0;32m    <a href='file:///c%3A/Users/shoai/AppData/Local/Programs/Python/Python310/lib/site-packages/requests/adapters.py?line=453'>454</a>\u001b[0m     \u001b[39melse\u001b[39;00m:\n\u001b[0;32m    <a href='file:///c%3A/Users/shoai/AppData/Local/Programs/Python/Python310/lib/site-packages/requests/adapters.py?line=454'>455</a>\u001b[0m         \u001b[39mif\u001b[39;00m \u001b[39mhasattr\u001b[39m(conn, \u001b[39m'\u001b[39m\u001b[39mproxy_pool\u001b[39m\u001b[39m'\u001b[39m):\n",
      "File \u001b[1;32m~\\AppData\\Local\\Programs\\Python\\Python310\\lib\\site-packages\\urllib3\\connectionpool.py:703\u001b[0m, in \u001b[0;36mHTTPConnectionPool.urlopen\u001b[1;34m(self, method, url, body, headers, retries, redirect, assert_same_host, timeout, pool_timeout, release_conn, chunked, body_pos, **response_kw)\u001b[0m\n\u001b[0;32m    <a href='file:///c%3A/Users/shoai/AppData/Local/Programs/Python/Python310/lib/site-packages/urllib3/connectionpool.py?line=699'>700</a>\u001b[0m     \u001b[39mself\u001b[39m\u001b[39m.\u001b[39m_prepare_proxy(conn)\n\u001b[0;32m    <a href='file:///c%3A/Users/shoai/AppData/Local/Programs/Python/Python310/lib/site-packages/urllib3/connectionpool.py?line=701'>702</a>\u001b[0m \u001b[39m# Make the request on the httplib connection object.\u001b[39;00m\n\u001b[1;32m--> <a href='file:///c%3A/Users/shoai/AppData/Local/Programs/Python/Python310/lib/site-packages/urllib3/connectionpool.py?line=702'>703</a>\u001b[0m httplib_response \u001b[39m=\u001b[39m \u001b[39mself\u001b[39;49m\u001b[39m.\u001b[39;49m_make_request(\n\u001b[0;32m    <a href='file:///c%3A/Users/shoai/AppData/Local/Programs/Python/Python310/lib/site-packages/urllib3/connectionpool.py?line=703'>704</a>\u001b[0m     conn,\n\u001b[0;32m    <a href='file:///c%3A/Users/shoai/AppData/Local/Programs/Python/Python310/lib/site-packages/urllib3/connectionpool.py?line=704'>705</a>\u001b[0m     method,\n\u001b[0;32m    <a href='file:///c%3A/Users/shoai/AppData/Local/Programs/Python/Python310/lib/site-packages/urllib3/connectionpool.py?line=705'>706</a>\u001b[0m     url,\n\u001b[0;32m    <a href='file:///c%3A/Users/shoai/AppData/Local/Programs/Python/Python310/lib/site-packages/urllib3/connectionpool.py?line=706'>707</a>\u001b[0m     timeout\u001b[39m=\u001b[39;49mtimeout_obj,\n\u001b[0;32m    <a href='file:///c%3A/Users/shoai/AppData/Local/Programs/Python/Python310/lib/site-packages/urllib3/connectionpool.py?line=707'>708</a>\u001b[0m     body\u001b[39m=\u001b[39;49mbody,\n\u001b[0;32m    <a href='file:///c%3A/Users/shoai/AppData/Local/Programs/Python/Python310/lib/site-packages/urllib3/connectionpool.py?line=708'>709</a>\u001b[0m     headers\u001b[39m=\u001b[39;49mheaders,\n\u001b[0;32m    <a href='file:///c%3A/Users/shoai/AppData/Local/Programs/Python/Python310/lib/site-packages/urllib3/connectionpool.py?line=709'>710</a>\u001b[0m     chunked\u001b[39m=\u001b[39;49mchunked,\n\u001b[0;32m    <a href='file:///c%3A/Users/shoai/AppData/Local/Programs/Python/Python310/lib/site-packages/urllib3/connectionpool.py?line=710'>711</a>\u001b[0m )\n\u001b[0;32m    <a href='file:///c%3A/Users/shoai/AppData/Local/Programs/Python/Python310/lib/site-packages/urllib3/connectionpool.py?line=712'>713</a>\u001b[0m \u001b[39m# If we're going to release the connection in ``finally:``, then\u001b[39;00m\n\u001b[0;32m    <a href='file:///c%3A/Users/shoai/AppData/Local/Programs/Python/Python310/lib/site-packages/urllib3/connectionpool.py?line=713'>714</a>\u001b[0m \u001b[39m# the response doesn't need to know about the connection. Otherwise\u001b[39;00m\n\u001b[0;32m    <a href='file:///c%3A/Users/shoai/AppData/Local/Programs/Python/Python310/lib/site-packages/urllib3/connectionpool.py?line=714'>715</a>\u001b[0m \u001b[39m# it will also try to release it and we'll have a double-release\u001b[39;00m\n\u001b[0;32m    <a href='file:///c%3A/Users/shoai/AppData/Local/Programs/Python/Python310/lib/site-packages/urllib3/connectionpool.py?line=715'>716</a>\u001b[0m \u001b[39m# mess.\u001b[39;00m\n\u001b[0;32m    <a href='file:///c%3A/Users/shoai/AppData/Local/Programs/Python/Python310/lib/site-packages/urllib3/connectionpool.py?line=716'>717</a>\u001b[0m response_conn \u001b[39m=\u001b[39m conn \u001b[39mif\u001b[39;00m \u001b[39mnot\u001b[39;00m release_conn \u001b[39melse\u001b[39;00m \u001b[39mNone\u001b[39;00m\n",
      "File \u001b[1;32m~\\AppData\\Local\\Programs\\Python\\Python310\\lib\\site-packages\\urllib3\\connectionpool.py:449\u001b[0m, in \u001b[0;36mHTTPConnectionPool._make_request\u001b[1;34m(self, conn, method, url, timeout, chunked, **httplib_request_kw)\u001b[0m\n\u001b[0;32m    <a href='file:///c%3A/Users/shoai/AppData/Local/Programs/Python/Python310/lib/site-packages/urllib3/connectionpool.py?line=443'>444</a>\u001b[0m             httplib_response \u001b[39m=\u001b[39m conn\u001b[39m.\u001b[39mgetresponse()\n\u001b[0;32m    <a href='file:///c%3A/Users/shoai/AppData/Local/Programs/Python/Python310/lib/site-packages/urllib3/connectionpool.py?line=444'>445</a>\u001b[0m         \u001b[39mexcept\u001b[39;00m \u001b[39mBaseException\u001b[39;00m \u001b[39mas\u001b[39;00m e:\n\u001b[0;32m    <a href='file:///c%3A/Users/shoai/AppData/Local/Programs/Python/Python310/lib/site-packages/urllib3/connectionpool.py?line=445'>446</a>\u001b[0m             \u001b[39m# Remove the TypeError from the exception chain in\u001b[39;00m\n\u001b[0;32m    <a href='file:///c%3A/Users/shoai/AppData/Local/Programs/Python/Python310/lib/site-packages/urllib3/connectionpool.py?line=446'>447</a>\u001b[0m             \u001b[39m# Python 3 (including for exceptions like SystemExit).\u001b[39;00m\n\u001b[0;32m    <a href='file:///c%3A/Users/shoai/AppData/Local/Programs/Python/Python310/lib/site-packages/urllib3/connectionpool.py?line=447'>448</a>\u001b[0m             \u001b[39m# Otherwise it looks like a bug in the code.\u001b[39;00m\n\u001b[1;32m--> <a href='file:///c%3A/Users/shoai/AppData/Local/Programs/Python/Python310/lib/site-packages/urllib3/connectionpool.py?line=448'>449</a>\u001b[0m             six\u001b[39m.\u001b[39;49mraise_from(e, \u001b[39mNone\u001b[39;49;00m)\n\u001b[0;32m    <a href='file:///c%3A/Users/shoai/AppData/Local/Programs/Python/Python310/lib/site-packages/urllib3/connectionpool.py?line=449'>450</a>\u001b[0m \u001b[39mexcept\u001b[39;00m (SocketTimeout, BaseSSLError, SocketError) \u001b[39mas\u001b[39;00m e:\n\u001b[0;32m    <a href='file:///c%3A/Users/shoai/AppData/Local/Programs/Python/Python310/lib/site-packages/urllib3/connectionpool.py?line=450'>451</a>\u001b[0m     \u001b[39mself\u001b[39m\u001b[39m.\u001b[39m_raise_timeout(err\u001b[39m=\u001b[39me, url\u001b[39m=\u001b[39murl, timeout_value\u001b[39m=\u001b[39mread_timeout)\n",
      "File \u001b[1;32m<string>:3\u001b[0m, in \u001b[0;36mraise_from\u001b[1;34m(value, from_value)\u001b[0m\n",
      "File \u001b[1;32m~\\AppData\\Local\\Programs\\Python\\Python310\\lib\\site-packages\\urllib3\\connectionpool.py:444\u001b[0m, in \u001b[0;36mHTTPConnectionPool._make_request\u001b[1;34m(self, conn, method, url, timeout, chunked, **httplib_request_kw)\u001b[0m\n\u001b[0;32m    <a href='file:///c%3A/Users/shoai/AppData/Local/Programs/Python/Python310/lib/site-packages/urllib3/connectionpool.py?line=440'>441</a>\u001b[0m \u001b[39mexcept\u001b[39;00m \u001b[39mTypeError\u001b[39;00m:\n\u001b[0;32m    <a href='file:///c%3A/Users/shoai/AppData/Local/Programs/Python/Python310/lib/site-packages/urllib3/connectionpool.py?line=441'>442</a>\u001b[0m     \u001b[39m# Python 3\u001b[39;00m\n\u001b[0;32m    <a href='file:///c%3A/Users/shoai/AppData/Local/Programs/Python/Python310/lib/site-packages/urllib3/connectionpool.py?line=442'>443</a>\u001b[0m     \u001b[39mtry\u001b[39;00m:\n\u001b[1;32m--> <a href='file:///c%3A/Users/shoai/AppData/Local/Programs/Python/Python310/lib/site-packages/urllib3/connectionpool.py?line=443'>444</a>\u001b[0m         httplib_response \u001b[39m=\u001b[39m conn\u001b[39m.\u001b[39;49mgetresponse()\n\u001b[0;32m    <a href='file:///c%3A/Users/shoai/AppData/Local/Programs/Python/Python310/lib/site-packages/urllib3/connectionpool.py?line=444'>445</a>\u001b[0m     \u001b[39mexcept\u001b[39;00m \u001b[39mBaseException\u001b[39;00m \u001b[39mas\u001b[39;00m e:\n\u001b[0;32m    <a href='file:///c%3A/Users/shoai/AppData/Local/Programs/Python/Python310/lib/site-packages/urllib3/connectionpool.py?line=445'>446</a>\u001b[0m         \u001b[39m# Remove the TypeError from the exception chain in\u001b[39;00m\n\u001b[0;32m    <a href='file:///c%3A/Users/shoai/AppData/Local/Programs/Python/Python310/lib/site-packages/urllib3/connectionpool.py?line=446'>447</a>\u001b[0m         \u001b[39m# Python 3 (including for exceptions like SystemExit).\u001b[39;00m\n\u001b[0;32m    <a href='file:///c%3A/Users/shoai/AppData/Local/Programs/Python/Python310/lib/site-packages/urllib3/connectionpool.py?line=447'>448</a>\u001b[0m         \u001b[39m# Otherwise it looks like a bug in the code.\u001b[39;00m\n\u001b[0;32m    <a href='file:///c%3A/Users/shoai/AppData/Local/Programs/Python/Python310/lib/site-packages/urllib3/connectionpool.py?line=448'>449</a>\u001b[0m         six\u001b[39m.\u001b[39mraise_from(e, \u001b[39mNone\u001b[39;00m)\n",
      "File \u001b[1;32m~\\AppData\\Local\\Programs\\Python\\Python310\\lib\\http\\client.py:1374\u001b[0m, in \u001b[0;36mHTTPConnection.getresponse\u001b[1;34m(self)\u001b[0m\n\u001b[0;32m   <a href='file:///c%3A/Users/shoai/AppData/Local/Programs/Python/Python310/lib/http/client.py?line=1371'>1372</a>\u001b[0m \u001b[39mtry\u001b[39;00m:\n\u001b[0;32m   <a href='file:///c%3A/Users/shoai/AppData/Local/Programs/Python/Python310/lib/http/client.py?line=1372'>1373</a>\u001b[0m     \u001b[39mtry\u001b[39;00m:\n\u001b[1;32m-> <a href='file:///c%3A/Users/shoai/AppData/Local/Programs/Python/Python310/lib/http/client.py?line=1373'>1374</a>\u001b[0m         response\u001b[39m.\u001b[39;49mbegin()\n\u001b[0;32m   <a href='file:///c%3A/Users/shoai/AppData/Local/Programs/Python/Python310/lib/http/client.py?line=1374'>1375</a>\u001b[0m     \u001b[39mexcept\u001b[39;00m \u001b[39mConnectionError\u001b[39;00m:\n\u001b[0;32m   <a href='file:///c%3A/Users/shoai/AppData/Local/Programs/Python/Python310/lib/http/client.py?line=1375'>1376</a>\u001b[0m         \u001b[39mself\u001b[39m\u001b[39m.\u001b[39mclose()\n",
      "File \u001b[1;32m~\\AppData\\Local\\Programs\\Python\\Python310\\lib\\http\\client.py:318\u001b[0m, in \u001b[0;36mHTTPResponse.begin\u001b[1;34m(self)\u001b[0m\n\u001b[0;32m    <a href='file:///c%3A/Users/shoai/AppData/Local/Programs/Python/Python310/lib/http/client.py?line=315'>316</a>\u001b[0m \u001b[39m# read until we get a non-100 response\u001b[39;00m\n\u001b[0;32m    <a href='file:///c%3A/Users/shoai/AppData/Local/Programs/Python/Python310/lib/http/client.py?line=316'>317</a>\u001b[0m \u001b[39mwhile\u001b[39;00m \u001b[39mTrue\u001b[39;00m:\n\u001b[1;32m--> <a href='file:///c%3A/Users/shoai/AppData/Local/Programs/Python/Python310/lib/http/client.py?line=317'>318</a>\u001b[0m     version, status, reason \u001b[39m=\u001b[39m \u001b[39mself\u001b[39;49m\u001b[39m.\u001b[39;49m_read_status()\n\u001b[0;32m    <a href='file:///c%3A/Users/shoai/AppData/Local/Programs/Python/Python310/lib/http/client.py?line=318'>319</a>\u001b[0m     \u001b[39mif\u001b[39;00m status \u001b[39m!=\u001b[39m CONTINUE:\n\u001b[0;32m    <a href='file:///c%3A/Users/shoai/AppData/Local/Programs/Python/Python310/lib/http/client.py?line=319'>320</a>\u001b[0m         \u001b[39mbreak\u001b[39;00m\n",
      "File \u001b[1;32m~\\AppData\\Local\\Programs\\Python\\Python310\\lib\\http\\client.py:279\u001b[0m, in \u001b[0;36mHTTPResponse._read_status\u001b[1;34m(self)\u001b[0m\n\u001b[0;32m    <a href='file:///c%3A/Users/shoai/AppData/Local/Programs/Python/Python310/lib/http/client.py?line=277'>278</a>\u001b[0m \u001b[39mdef\u001b[39;00m \u001b[39m_read_status\u001b[39m(\u001b[39mself\u001b[39m):\n\u001b[1;32m--> <a href='file:///c%3A/Users/shoai/AppData/Local/Programs/Python/Python310/lib/http/client.py?line=278'>279</a>\u001b[0m     line \u001b[39m=\u001b[39m \u001b[39mstr\u001b[39m(\u001b[39mself\u001b[39;49m\u001b[39m.\u001b[39;49mfp\u001b[39m.\u001b[39;49mreadline(_MAXLINE \u001b[39m+\u001b[39;49m \u001b[39m1\u001b[39;49m), \u001b[39m\"\u001b[39m\u001b[39miso-8859-1\u001b[39m\u001b[39m\"\u001b[39m)\n\u001b[0;32m    <a href='file:///c%3A/Users/shoai/AppData/Local/Programs/Python/Python310/lib/http/client.py?line=279'>280</a>\u001b[0m     \u001b[39mif\u001b[39;00m \u001b[39mlen\u001b[39m(line) \u001b[39m>\u001b[39m _MAXLINE:\n\u001b[0;32m    <a href='file:///c%3A/Users/shoai/AppData/Local/Programs/Python/Python310/lib/http/client.py?line=280'>281</a>\u001b[0m         \u001b[39mraise\u001b[39;00m LineTooLong(\u001b[39m\"\u001b[39m\u001b[39mstatus line\u001b[39m\u001b[39m\"\u001b[39m)\n",
      "File \u001b[1;32m~\\AppData\\Local\\Programs\\Python\\Python310\\lib\\socket.py:705\u001b[0m, in \u001b[0;36mSocketIO.readinto\u001b[1;34m(self, b)\u001b[0m\n\u001b[0;32m    <a href='file:///c%3A/Users/shoai/AppData/Local/Programs/Python/Python310/lib/socket.py?line=702'>703</a>\u001b[0m \u001b[39mwhile\u001b[39;00m \u001b[39mTrue\u001b[39;00m:\n\u001b[0;32m    <a href='file:///c%3A/Users/shoai/AppData/Local/Programs/Python/Python310/lib/socket.py?line=703'>704</a>\u001b[0m     \u001b[39mtry\u001b[39;00m:\n\u001b[1;32m--> <a href='file:///c%3A/Users/shoai/AppData/Local/Programs/Python/Python310/lib/socket.py?line=704'>705</a>\u001b[0m         \u001b[39mreturn\u001b[39;00m \u001b[39mself\u001b[39;49m\u001b[39m.\u001b[39;49m_sock\u001b[39m.\u001b[39;49mrecv_into(b)\n\u001b[0;32m    <a href='file:///c%3A/Users/shoai/AppData/Local/Programs/Python/Python310/lib/socket.py?line=705'>706</a>\u001b[0m     \u001b[39mexcept\u001b[39;00m timeout:\n\u001b[0;32m    <a href='file:///c%3A/Users/shoai/AppData/Local/Programs/Python/Python310/lib/socket.py?line=706'>707</a>\u001b[0m         \u001b[39mself\u001b[39m\u001b[39m.\u001b[39m_timeout_occurred \u001b[39m=\u001b[39m \u001b[39mTrue\u001b[39;00m\n",
      "File \u001b[1;32m~\\AppData\\Local\\Programs\\Python\\Python310\\lib\\ssl.py:1273\u001b[0m, in \u001b[0;36mSSLSocket.recv_into\u001b[1;34m(self, buffer, nbytes, flags)\u001b[0m\n\u001b[0;32m   <a href='file:///c%3A/Users/shoai/AppData/Local/Programs/Python/Python310/lib/ssl.py?line=1268'>1269</a>\u001b[0m     \u001b[39mif\u001b[39;00m flags \u001b[39m!=\u001b[39m \u001b[39m0\u001b[39m:\n\u001b[0;32m   <a href='file:///c%3A/Users/shoai/AppData/Local/Programs/Python/Python310/lib/ssl.py?line=1269'>1270</a>\u001b[0m         \u001b[39mraise\u001b[39;00m \u001b[39mValueError\u001b[39;00m(\n\u001b[0;32m   <a href='file:///c%3A/Users/shoai/AppData/Local/Programs/Python/Python310/lib/ssl.py?line=1270'>1271</a>\u001b[0m           \u001b[39m\"\u001b[39m\u001b[39mnon-zero flags not allowed in calls to recv_into() on \u001b[39m\u001b[39m%s\u001b[39;00m\u001b[39m\"\u001b[39m \u001b[39m%\u001b[39m\n\u001b[0;32m   <a href='file:///c%3A/Users/shoai/AppData/Local/Programs/Python/Python310/lib/ssl.py?line=1271'>1272</a>\u001b[0m           \u001b[39mself\u001b[39m\u001b[39m.\u001b[39m\u001b[39m__class__\u001b[39m)\n\u001b[1;32m-> <a href='file:///c%3A/Users/shoai/AppData/Local/Programs/Python/Python310/lib/ssl.py?line=1272'>1273</a>\u001b[0m     \u001b[39mreturn\u001b[39;00m \u001b[39mself\u001b[39;49m\u001b[39m.\u001b[39;49mread(nbytes, buffer)\n\u001b[0;32m   <a href='file:///c%3A/Users/shoai/AppData/Local/Programs/Python/Python310/lib/ssl.py?line=1273'>1274</a>\u001b[0m \u001b[39melse\u001b[39;00m:\n\u001b[0;32m   <a href='file:///c%3A/Users/shoai/AppData/Local/Programs/Python/Python310/lib/ssl.py?line=1274'>1275</a>\u001b[0m     \u001b[39mreturn\u001b[39;00m \u001b[39msuper\u001b[39m()\u001b[39m.\u001b[39mrecv_into(buffer, nbytes, flags)\n",
      "File \u001b[1;32m~\\AppData\\Local\\Programs\\Python\\Python310\\lib\\ssl.py:1129\u001b[0m, in \u001b[0;36mSSLSocket.read\u001b[1;34m(self, len, buffer)\u001b[0m\n\u001b[0;32m   <a href='file:///c%3A/Users/shoai/AppData/Local/Programs/Python/Python310/lib/ssl.py?line=1126'>1127</a>\u001b[0m \u001b[39mtry\u001b[39;00m:\n\u001b[0;32m   <a href='file:///c%3A/Users/shoai/AppData/Local/Programs/Python/Python310/lib/ssl.py?line=1127'>1128</a>\u001b[0m     \u001b[39mif\u001b[39;00m buffer \u001b[39mis\u001b[39;00m \u001b[39mnot\u001b[39;00m \u001b[39mNone\u001b[39;00m:\n\u001b[1;32m-> <a href='file:///c%3A/Users/shoai/AppData/Local/Programs/Python/Python310/lib/ssl.py?line=1128'>1129</a>\u001b[0m         \u001b[39mreturn\u001b[39;00m \u001b[39mself\u001b[39;49m\u001b[39m.\u001b[39;49m_sslobj\u001b[39m.\u001b[39;49mread(\u001b[39mlen\u001b[39;49m, buffer)\n\u001b[0;32m   <a href='file:///c%3A/Users/shoai/AppData/Local/Programs/Python/Python310/lib/ssl.py?line=1129'>1130</a>\u001b[0m     \u001b[39melse\u001b[39;00m:\n\u001b[0;32m   <a href='file:///c%3A/Users/shoai/AppData/Local/Programs/Python/Python310/lib/ssl.py?line=1130'>1131</a>\u001b[0m         \u001b[39mreturn\u001b[39;00m \u001b[39mself\u001b[39m\u001b[39m.\u001b[39m_sslobj\u001b[39m.\u001b[39mread(\u001b[39mlen\u001b[39m)\n",
      "\u001b[1;31mKeyboardInterrupt\u001b[0m: "
     ]
    }
   ],
   "source": [
    "number = sa.get_number('tw', country=78)\n",
    "sa.set_status(1, number[0])\n",
    "def get_code(id):\n",
    "    while True:\n",
    "        msg = sa.get_full_sms(id) #'STATUS_WAIT_CODE'\n",
    "        if msg == 'STATUS_WAIT_CODE':\n",
    "            sleep(10)\n",
    "            continue\n",
    "        code = re.findall('\\d+', 'FULL_SMS:Your Twitter confirmation code is 162748.')[0]\n",
    "        return code\n",
    "sa.set_status(8, number[0])"
   ]
  },
  {
   "cell_type": "code",
   "execution_count": 25,
   "metadata": {},
   "outputs": [],
   "source": [
    "from selenium import webdriver\n",
    "from driverActions import DriverActions"
   ]
  },
  {
   "cell_type": "code",
   "execution_count": 9,
   "metadata": {},
   "outputs": [],
   "source": [
    "from selenium.webdriver.support.ui import Select"
   ]
  },
  {
   "cell_type": "code",
   "execution_count": 10,
   "metadata": {},
   "outputs": [],
   "source": [
    "driver = webdriver.Chrome()"
   ]
  },
  {
   "cell_type": "code",
   "execution_count": 26,
   "metadata": {},
   "outputs": [],
   "source": [
    "driver_actions = DriverActions(driver)"
   ]
  },
  {
   "cell_type": "code",
   "execution_count": 12,
   "metadata": {},
   "outputs": [],
   "source": [
    "driver.get('https://twitter.com/i/flow/signup')"
   ]
  },
  {
   "cell_type": "code",
   "execution_count": null,
   "metadata": {},
   "outputs": [],
   "source": []
  },
  {
   "cell_type": "code",
   "execution_count": null,
   "metadata": {},
   "outputs": [],
   "source": [
    "name = 'leo'\n",
    "dob_month = \"March\"\n",
    "dob_day = \"15\"\n",
    "dob_year = '1999'\n",
    "password = \"gyukg32&*hui\""
   ]
  },
  {
   "cell_type": "code",
   "execution_count": null,
   "metadata": {},
   "outputs": [],
   "source": [
    "driver_actions.click(xpaths['signup_btn'])"
   ]
  },
  {
   "cell_type": "code",
   "execution_count": null,
   "metadata": {},
   "outputs": [],
   "source": [
    "driver_actions.human_typer(xpaths['name_input'], name)"
   ]
  },
  {
   "cell_type": "code",
   "execution_count": null,
   "metadata": {},
   "outputs": [],
   "source": [
    "id, phone = sa.get_number('tw', country=78)\n",
    "sa.set_status(1, id)"
   ]
  },
  {
   "cell_type": "code",
   "execution_count": null,
   "metadata": {},
   "outputs": [],
   "source": [
    "driver_actions.human_typer(xpaths['phone_input'], '+' + phone)"
   ]
  },
  {
   "cell_type": "code",
   "execution_count": null,
   "metadata": {},
   "outputs": [],
   "source": [
    "dob_month_el = Select(driver.find_element_by_xpath(xpaths['dob_month']))"
   ]
  },
  {
   "cell_type": "code",
   "execution_count": null,
   "metadata": {},
   "outputs": [],
   "source": [
    "dob_day_el  = Select(driver.find_element_by_xpath(xpaths['dob_day']))\n",
    "dob_year_el = Select(driver.find_element_by_xpath(xpaths['dob_year']))"
   ]
  },
  {
   "cell_type": "code",
   "execution_count": null,
   "metadata": {},
   "outputs": [],
   "source": [
    "dob_month_el.select_by_visible_text(dob_month)\n",
    "dob_day_el.select_by_value(dob_day)\n",
    "dob_year_el.select_by_value(dob_year)"
   ]
  },
  {
   "cell_type": "code",
   "execution_count": null,
   "metadata": {},
   "outputs": [],
   "source": [
    "driver_actions.click(xpaths['next_btn'])"
   ]
  },
  {
   "cell_type": "code",
   "execution_count": null,
   "metadata": {},
   "outputs": [],
   "source": [
    "driver_actions.random_wait(2,3)"
   ]
  },
  {
   "cell_type": "code",
   "execution_count": null,
   "metadata": {},
   "outputs": [],
   "source": [
    "driver_actions.click(xpaths['next_btn'])"
   ]
  },
  {
   "cell_type": "code",
   "execution_count": null,
   "metadata": {},
   "outputs": [],
   "source": [
    "driver_actions.click(xpaths['signup_btn2'])"
   ]
  },
  {
   "cell_type": "code",
   "execution_count": null,
   "metadata": {},
   "outputs": [],
   "source": [
    "driver_actions.click(xpaths['phone_ok_btn'])"
   ]
  },
  {
   "cell_type": "code",
   "execution_count": null,
   "metadata": {},
   "outputs": [],
   "source": [
    "def get_code(id):\n",
    "    while True:\n",
    "        msg = sa.get_full_sms(id) #'STATUS_WAIT_CODE'\n",
    "        if msg == 'STATUS_WAIT_CODE':\n",
    "            sleep(10)\n",
    "            continue\n",
    "        code = re.findall('\\d+', msg)[0]\n",
    "        return code"
   ]
  },
  {
   "cell_type": "code",
   "execution_count": null,
   "metadata": {},
   "outputs": [],
   "source": [
    "code = get_code(id)"
   ]
  },
  {
   "cell_type": "code",
   "execution_count": null,
   "metadata": {},
   "outputs": [],
   "source": [
    "sa.set_status(6, id)"
   ]
  },
  {
   "cell_type": "code",
   "execution_count": null,
   "metadata": {},
   "outputs": [],
   "source": [
    "driver_actions.human_typer(xpaths['varf_input'], code)"
   ]
  },
  {
   "cell_type": "code",
   "execution_count": null,
   "metadata": {},
   "outputs": [],
   "source": [
    "driver_actions.click(xpaths['next_btn'])"
   ]
  },
  {
   "cell_type": "code",
   "execution_count": null,
   "metadata": {},
   "outputs": [],
   "source": [
    "driver_actions.human_typer(xpaths['pswd_input'], password)"
   ]
  },
  {
   "cell_type": "code",
   "execution_count": null,
   "metadata": {},
   "outputs": [],
   "source": [
    "driver_actions.click(xpaths['next_btn'])"
   ]
  },
  {
   "cell_type": "code",
   "execution_count": null,
   "metadata": {},
   "outputs": [],
   "source": [
    "for _ in range(4):\n",
    "    driver_actions.click(xpaths['skip_btn'])\n",
    "    driver_actions.random_wait(1.5,2)"
   ]
  },
  {
   "cell_type": "code",
   "execution_count": null,
   "metadata": {},
   "outputs": [],
   "source": [
    "driver_actions.click(xpaths['next_btn'])"
   ]
  },
  {
   "cell_type": "code",
   "execution_count": null,
   "metadata": {},
   "outputs": [],
   "source": [
    "driver_actions.click(xpaths['follow_btn'])"
   ]
  },
  {
   "cell_type": "code",
   "execution_count": null,
   "metadata": {},
   "outputs": [],
   "source": [
    "driver_actions.click(xpaths['next_btn'])"
   ]
  },
  {
   "cell_type": "code",
   "execution_count": null,
   "metadata": {},
   "outputs": [],
   "source": [
    "driver.get('https://twitter.com/i/flow/add_email')"
   ]
  },
  {
   "cell_type": "code",
   "execution_count": null,
   "metadata": {},
   "outputs": [],
   "source": [
    "driver_actions.human_typer(xpaths['pswd_input'], password)"
   ]
  },
  {
   "cell_type": "code",
   "execution_count": null,
   "metadata": {},
   "outputs": [],
   "source": [
    "driver_actions.click(xpaths['next_btn'])"
   ]
  },
  {
   "cell_type": "code",
   "execution_count": null,
   "metadata": {},
   "outputs": [],
   "source": [
    "driver_actions.human_typer(xpaths['email_input'], email_username)"
   ]
  },
  {
   "cell_type": "code",
   "execution_count": null,
   "metadata": {},
   "outputs": [],
   "source": [
    "driver_actions.click(xpaths['next_btn'])"
   ]
  },
  {
   "cell_type": "code",
   "execution_count": 34,
   "metadata": {},
   "outputs": [],
   "source": [
    "def get_varf_email(email_username, email_password, sender):\n",
    "    while True:\n",
    "        emails = get_emails(email_username, email_password, sender)\n",
    "        if not len(emails):\n",
    "            sleep(10)\n",
    "            continue\n",
    "        varf_email = emails[-1]\n",
    "        message = varf_email['message']\n",
    "        # varf_link = re.findall('https.*verify', message)[0]\n",
    "        return message"
   ]
  },
  {
   "cell_type": "code",
   "execution_count": null,
   "metadata": {},
   "outputs": [],
   "source": [
    "varf_email = get_varf_email(email_username, email_password, \"verify@twitter.com\")"
   ]
  },
  {
   "cell_type": "code",
   "execution_count": null,
   "metadata": {},
   "outputs": [],
   "source": [
    "varf_code = re.findall('\\d+', varf_email)[0]"
   ]
  },
  {
   "cell_type": "code",
   "execution_count": null,
   "metadata": {},
   "outputs": [],
   "source": [
    "driver_actions.human_typer(xpaths['varf_input'], varf_code)"
   ]
  },
  {
   "cell_type": "code",
   "execution_count": null,
   "metadata": {},
   "outputs": [],
   "source": [
    "driver_actions.click(xpaths['varf_btn'])"
   ]
  },
  {
   "cell_type": "code",
   "execution_count": null,
   "metadata": {},
   "outputs": [],
   "source": [
    "#developer portal"
   ]
  },
  {
   "cell_type": "code",
   "execution_count": 55,
   "metadata": {},
   "outputs": [],
   "source": []
  },
  {
   "cell_type": "code",
   "execution_count": 14,
   "metadata": {},
   "outputs": [],
   "source": [
    "driver.get(\"https://developer.twitter.com/en/portal/dashboard\")"
   ]
  },
  {
   "cell_type": "code",
   "execution_count": null,
   "metadata": {},
   "outputs": [],
   "source": [
    "project_name = 'my-test-app-281e7818'"
   ]
  },
  {
   "cell_type": "code",
   "execution_count": null,
   "metadata": {},
   "outputs": [],
   "source": [
    "driver_actions.human_typer(xpaths['project_name_input'], project_name)"
   ]
  },
  {
   "cell_type": "code",
   "execution_count": null,
   "metadata": {},
   "outputs": [],
   "source": [
    "country_el = Select(driver.find_element_by_xpath(xpaths['country_select']))"
   ]
  },
  {
   "cell_type": "code",
   "execution_count": null,
   "metadata": {},
   "outputs": [],
   "source": [
    "country_el.select_by_value('US')"
   ]
  },
  {
   "cell_type": "code",
   "execution_count": null,
   "metadata": {},
   "outputs": [],
   "source": [
    "use_case_el = Select(driver.find_element_by_xpath(xpaths['use_case_select']))"
   ]
  },
  {
   "cell_type": "code",
   "execution_count": null,
   "metadata": {},
   "outputs": [],
   "source": [
    "use_case_el.select_by_visible_text(\"Student\")"
   ]
  },
  {
   "cell_type": "code",
   "execution_count": null,
   "metadata": {},
   "outputs": [],
   "source": [
    "is_gov_el = Select(driver.find_element_by_xpath(xpaths['is_gov_select']))"
   ]
  },
  {
   "cell_type": "code",
   "execution_count": null,
   "metadata": {},
   "outputs": [],
   "source": [
    "is_gov_el.select_by_value('false')"
   ]
  },
  {
   "cell_type": "code",
   "execution_count": 27,
   "metadata": {},
   "outputs": [],
   "source": [
    "driver_actions.click(xpaths['dashboard_next_btn'])"
   ]
  },
  {
   "cell_type": "code",
   "execution_count": 29,
   "metadata": {},
   "outputs": [],
   "source": [
    "driver_actions.random_wait(4,6)"
   ]
  },
  {
   "cell_type": "code",
   "execution_count": 31,
   "metadata": {},
   "outputs": [],
   "source": [
    "driver_actions.click(xpaths['terms_input'])"
   ]
  },
  {
   "cell_type": "code",
   "execution_count": 32,
   "metadata": {},
   "outputs": [],
   "source": [
    "driver_actions.click(xpaths['dashboard_next_btn'])"
   ]
  },
  {
   "cell_type": "code",
   "execution_count": 35,
   "metadata": {},
   "outputs": [],
   "source": [
    "varf_email = get_varf_email(email_username, email_password, \"developer-accounts@twitter.com\")"
   ]
  },
  {
   "cell_type": "code",
   "execution_count": 39,
   "metadata": {},
   "outputs": [],
   "source": [
    "varf_link = re.findall('https://developer.*verify', varf_email)[0]"
   ]
  },
  {
   "cell_type": "code",
   "execution_count": 40,
   "metadata": {},
   "outputs": [],
   "source": [
    "driver.get(varf_link)"
   ]
  },
  {
   "cell_type": "code",
   "execution_count": 43,
   "metadata": {},
   "outputs": [],
   "source": [
    "driver_actions.human_typer(xpaths['app_name_input'], project_name)"
   ]
  },
  {
   "cell_type": "code",
   "execution_count": 27,
   "metadata": {},
   "outputs": [
    {
     "ename": "TimeoutException",
     "evalue": "Message: \nStacktrace:\nBacktrace:\n\tOrdinal0 [0x004C9943+2595139]\n\tOrdinal0 [0x0045C9F1+2148849]\n\tOrdinal0 [0x00354528+1066280]\n\tOrdinal0 [0x00380FD4+1249236]\n\tOrdinal0 [0x003811CB+1249739]\n\tOrdinal0 [0x003AD812+1431570]\n\tOrdinal0 [0x0039BA34+1358388]\n\tOrdinal0 [0x003ABAF2+1424114]\n\tOrdinal0 [0x0039B806+1357830]\n\tOrdinal0 [0x00376086+1204358]\n\tOrdinal0 [0x00376F96+1208214]\n\tGetHandleVerifier [0x0066B232+1658114]\n\tGetHandleVerifier [0x0072312C+2411516]\n\tGetHandleVerifier [0x0055F261+560433]\n\tGetHandleVerifier [0x0055E366+556598]\n\tOrdinal0 [0x0046286B+2173035]\n\tOrdinal0 [0x004675F8+2192888]\n\tOrdinal0 [0x004676E5+2193125]\n\tOrdinal0 [0x004711FC+2232828]\n\tBaseThreadInitThunk [0x7597FA29+25]\n\tRtlGetAppContainerNamedObjectPath [0x77467A9E+286]\n\tRtlGetAppContainerNamedObjectPath [0x77467A6E+238]\n",
     "output_type": "error",
     "traceback": [
      "\u001b[1;31m---------------------------------------------------------------------------\u001b[0m",
      "\u001b[1;31mTimeoutException\u001b[0m                          Traceback (most recent call last)",
      "\u001b[1;32mc:\\Users\\shoai\\Documents\\py\\twitter-profile-creator\\test.ipynb Cell 67'\u001b[0m in \u001b[0;36m<cell line: 1>\u001b[1;34m()\u001b[0m\n\u001b[1;32m----> <a href='vscode-notebook-cell:/c%3A/Users/shoai/Documents/py/twitter-profile-creator/test.ipynb#ch0000066?line=0'>1</a>\u001b[0m driver_actions\u001b[39m.\u001b[39;49mclick(xpaths[\u001b[39m'\u001b[39;49m\u001b[39mget_keys_btn\u001b[39;49m\u001b[39m'\u001b[39;49m])\n",
      "File \u001b[1;32mc:\\Users\\shoai\\Documents\\py\\twitter-profile-creator\\driverActions.py:16\u001b[0m, in \u001b[0;36mDriverActions.click\u001b[1;34m(self, xpath)\u001b[0m\n\u001b[0;32m     <a href='file:///c%3A/Users/shoai/Documents/py/twitter-profile-creator/driverActions.py?line=14'>15</a>\u001b[0m \u001b[39mdef\u001b[39;00m \u001b[39mclick\u001b[39m(\u001b[39mself\u001b[39m, xpath):\n\u001b[1;32m---> <a href='file:///c%3A/Users/shoai/Documents/py/twitter-profile-creator/driverActions.py?line=15'>16</a>\u001b[0m     element \u001b[39m=\u001b[39m WebDriverWait(\u001b[39mself\u001b[39;49m\u001b[39m.\u001b[39;49mdriver, \u001b[39m30\u001b[39;49m)\u001b[39m.\u001b[39;49muntil(\n\u001b[0;32m     <a href='file:///c%3A/Users/shoai/Documents/py/twitter-profile-creator/driverActions.py?line=16'>17</a>\u001b[0m     EC\u001b[39m.\u001b[39;49mpresence_of_element_located((By\u001b[39m.\u001b[39;49mXPATH, xpath)))\n\u001b[0;32m     <a href='file:///c%3A/Users/shoai/Documents/py/twitter-profile-creator/driverActions.py?line=17'>18</a>\u001b[0m     element\u001b[39m.\u001b[39mclick()\n",
      "File \u001b[1;32m~\\AppData\\Local\\Programs\\Python\\Python310\\lib\\site-packages\\selenium\\webdriver\\support\\wait.py:89\u001b[0m, in \u001b[0;36mWebDriverWait.until\u001b[1;34m(self, method, message)\u001b[0m\n\u001b[0;32m     <a href='file:///c%3A/Users/shoai/AppData/Local/Programs/Python/Python310/lib/site-packages/selenium/webdriver/support/wait.py?line=86'>87</a>\u001b[0m     \u001b[39mif\u001b[39;00m time\u001b[39m.\u001b[39mtime() \u001b[39m>\u001b[39m end_time:\n\u001b[0;32m     <a href='file:///c%3A/Users/shoai/AppData/Local/Programs/Python/Python310/lib/site-packages/selenium/webdriver/support/wait.py?line=87'>88</a>\u001b[0m         \u001b[39mbreak\u001b[39;00m\n\u001b[1;32m---> <a href='file:///c%3A/Users/shoai/AppData/Local/Programs/Python/Python310/lib/site-packages/selenium/webdriver/support/wait.py?line=88'>89</a>\u001b[0m \u001b[39mraise\u001b[39;00m TimeoutException(message, screen, stacktrace)\n",
      "\u001b[1;31mTimeoutException\u001b[0m: Message: \nStacktrace:\nBacktrace:\n\tOrdinal0 [0x004C9943+2595139]\n\tOrdinal0 [0x0045C9F1+2148849]\n\tOrdinal0 [0x00354528+1066280]\n\tOrdinal0 [0x00380FD4+1249236]\n\tOrdinal0 [0x003811CB+1249739]\n\tOrdinal0 [0x003AD812+1431570]\n\tOrdinal0 [0x0039BA34+1358388]\n\tOrdinal0 [0x003ABAF2+1424114]\n\tOrdinal0 [0x0039B806+1357830]\n\tOrdinal0 [0x00376086+1204358]\n\tOrdinal0 [0x00376F96+1208214]\n\tGetHandleVerifier [0x0066B232+1658114]\n\tGetHandleVerifier [0x0072312C+2411516]\n\tGetHandleVerifier [0x0055F261+560433]\n\tGetHandleVerifier [0x0055E366+556598]\n\tOrdinal0 [0x0046286B+2173035]\n\tOrdinal0 [0x004675F8+2192888]\n\tOrdinal0 [0x004676E5+2193125]\n\tOrdinal0 [0x004711FC+2232828]\n\tBaseThreadInitThunk [0x7597FA29+25]\n\tRtlGetAppContainerNamedObjectPath [0x77467A9E+286]\n\tRtlGetAppContainerNamedObjectPath [0x77467A6E+238]\n"
     ]
    }
   ],
   "source": [
    "driver_actions.click(xpaths['get_keys_btn'])"
   ]
  },
  {
   "cell_type": "code",
   "execution_count": 15,
   "metadata": {},
   "outputs": [],
   "source": [
    "driver.get('https://developer.twitter.com/en/portal/projects/')"
   ]
  },
  {
   "cell_type": "code",
   "execution_count": 16,
   "metadata": {},
   "outputs": [],
   "source": [
    "driver_actions.click(xpaths['dashboard_projects'])"
   ]
  },
  {
   "cell_type": "code",
   "execution_count": 17,
   "metadata": {},
   "outputs": [
    {
     "name": "stderr",
     "output_type": "stream",
     "text": [
      "C:\\Users\\shoai\\AppData\\Local\\Temp\\ipykernel_7116\\2807162988.py:1: DeprecationWarning: find_element_by_xpath is deprecated. Please use find_element(by=By.XPATH, value=xpath) instead\n",
      "  el = driver.find_element_by_xpath(xpaths['dashboard_projects'])\n"
     ]
    }
   ],
   "source": [
    "el = driver.find_element_by_xpath(xpaths['dashboard_projects'])"
   ]
  },
  {
   "cell_type": "code",
   "execution_count": null,
   "metadata": {},
   "outputs": [],
   "source": []
  },
  {
   "cell_type": "code",
   "execution_count": 28,
   "metadata": {},
   "outputs": [],
   "source": [
    "driver_actions.click(xpaths['project_btn'])"
   ]
  },
  {
   "cell_type": "code",
   "execution_count": 32,
   "metadata": {},
   "outputs": [],
   "source": [
    "keys_link = driver.find_element('xpath', xpaths['keys_btn']).get_attribute('href')"
   ]
  },
  {
   "cell_type": "code",
   "execution_count": 33,
   "metadata": {},
   "outputs": [],
   "source": [
    "driver.get(keys_link)"
   ]
  },
  {
   "cell_type": "code",
   "execution_count": 49,
   "metadata": {},
   "outputs": [],
   "source": [
    "creds = {}"
   ]
  },
  {
   "cell_type": "code",
   "execution_count": 66,
   "metadata": {},
   "outputs": [],
   "source": [
    "genrate_btns = driver.find_elements('xpath', xpaths['genrate_btns'])\n",
    "genrate_btn = genrate_btns[2]"
   ]
  },
  {
   "cell_type": "code",
   "execution_count": 67,
   "metadata": {},
   "outputs": [],
   "source": [
    "genrate_btn.click()"
   ]
  },
  {
   "cell_type": "code",
   "execution_count": 68,
   "metadata": {},
   "outputs": [
    {
     "ename": "TimeoutException",
     "evalue": "Message: \nStacktrace:\nBacktrace:\n\tOrdinal0 [0x004C9943+2595139]\n\tOrdinal0 [0x0045C9F1+2148849]\n\tOrdinal0 [0x00354528+1066280]\n\tOrdinal0 [0x00380FD4+1249236]\n\tOrdinal0 [0x003811CB+1249739]\n\tOrdinal0 [0x003AD812+1431570]\n\tOrdinal0 [0x0039BA34+1358388]\n\tOrdinal0 [0x003ABAF2+1424114]\n\tOrdinal0 [0x0039B806+1357830]\n\tOrdinal0 [0x00376086+1204358]\n\tOrdinal0 [0x00376F96+1208214]\n\tGetHandleVerifier [0x0066B232+1658114]\n\tGetHandleVerifier [0x0072312C+2411516]\n\tGetHandleVerifier [0x0055F261+560433]\n\tGetHandleVerifier [0x0055E366+556598]\n\tOrdinal0 [0x0046286B+2173035]\n\tOrdinal0 [0x004675F8+2192888]\n\tOrdinal0 [0x004676E5+2193125]\n\tOrdinal0 [0x004711FC+2232828]\n\tBaseThreadInitThunk [0x7597FA29+25]\n\tRtlGetAppContainerNamedObjectPath [0x77467A9E+286]\n\tRtlGetAppContainerNamedObjectPath [0x77467A6E+238]\n",
     "output_type": "error",
     "traceback": [
      "\u001b[1;31m---------------------------------------------------------------------------\u001b[0m",
      "\u001b[1;31mTimeoutException\u001b[0m                          Traceback (most recent call last)",
      "\u001b[1;32mc:\\Users\\shoai\\Documents\\py\\twitter-profile-creator\\test.ipynb Cell 78'\u001b[0m in \u001b[0;36m<cell line: 1>\u001b[1;34m()\u001b[0m\n\u001b[1;32m----> <a href='vscode-notebook-cell:/c%3A/Users/shoai/Documents/py/twitter-profile-creator/test.ipynb#ch0000076?line=0'>1</a>\u001b[0m driver_actions\u001b[39m.\u001b[39;49mclick(xpaths[\u001b[39m'\u001b[39;49m\u001b[39mgenrate_confirm\u001b[39;49m\u001b[39m'\u001b[39;49m])\n",
      "File \u001b[1;32mc:\\Users\\shoai\\Documents\\py\\twitter-profile-creator\\driverActions.py:16\u001b[0m, in \u001b[0;36mDriverActions.click\u001b[1;34m(self, xpath)\u001b[0m\n\u001b[0;32m     <a href='file:///c%3A/Users/shoai/Documents/py/twitter-profile-creator/driverActions.py?line=14'>15</a>\u001b[0m \u001b[39mdef\u001b[39;00m \u001b[39mclick\u001b[39m(\u001b[39mself\u001b[39m, xpath):\n\u001b[1;32m---> <a href='file:///c%3A/Users/shoai/Documents/py/twitter-profile-creator/driverActions.py?line=15'>16</a>\u001b[0m     element \u001b[39m=\u001b[39m WebDriverWait(\u001b[39mself\u001b[39;49m\u001b[39m.\u001b[39;49mdriver, \u001b[39m30\u001b[39;49m)\u001b[39m.\u001b[39;49muntil(\n\u001b[0;32m     <a href='file:///c%3A/Users/shoai/Documents/py/twitter-profile-creator/driverActions.py?line=16'>17</a>\u001b[0m     EC\u001b[39m.\u001b[39;49mpresence_of_element_located((By\u001b[39m.\u001b[39;49mXPATH, xpath)))\n\u001b[0;32m     <a href='file:///c%3A/Users/shoai/Documents/py/twitter-profile-creator/driverActions.py?line=17'>18</a>\u001b[0m     element\u001b[39m.\u001b[39mclick()\n",
      "File \u001b[1;32m~\\AppData\\Local\\Programs\\Python\\Python310\\lib\\site-packages\\selenium\\webdriver\\support\\wait.py:89\u001b[0m, in \u001b[0;36mWebDriverWait.until\u001b[1;34m(self, method, message)\u001b[0m\n\u001b[0;32m     <a href='file:///c%3A/Users/shoai/AppData/Local/Programs/Python/Python310/lib/site-packages/selenium/webdriver/support/wait.py?line=86'>87</a>\u001b[0m     \u001b[39mif\u001b[39;00m time\u001b[39m.\u001b[39mtime() \u001b[39m>\u001b[39m end_time:\n\u001b[0;32m     <a href='file:///c%3A/Users/shoai/AppData/Local/Programs/Python/Python310/lib/site-packages/selenium/webdriver/support/wait.py?line=87'>88</a>\u001b[0m         \u001b[39mbreak\u001b[39;00m\n\u001b[1;32m---> <a href='file:///c%3A/Users/shoai/AppData/Local/Programs/Python/Python310/lib/site-packages/selenium/webdriver/support/wait.py?line=88'>89</a>\u001b[0m \u001b[39mraise\u001b[39;00m TimeoutException(message, screen, stacktrace)\n",
      "\u001b[1;31mTimeoutException\u001b[0m: Message: \nStacktrace:\nBacktrace:\n\tOrdinal0 [0x004C9943+2595139]\n\tOrdinal0 [0x0045C9F1+2148849]\n\tOrdinal0 [0x00354528+1066280]\n\tOrdinal0 [0x00380FD4+1249236]\n\tOrdinal0 [0x003811CB+1249739]\n\tOrdinal0 [0x003AD812+1431570]\n\tOrdinal0 [0x0039BA34+1358388]\n\tOrdinal0 [0x003ABAF2+1424114]\n\tOrdinal0 [0x0039B806+1357830]\n\tOrdinal0 [0x00376086+1204358]\n\tOrdinal0 [0x00376F96+1208214]\n\tGetHandleVerifier [0x0066B232+1658114]\n\tGetHandleVerifier [0x0072312C+2411516]\n\tGetHandleVerifier [0x0055F261+560433]\n\tGetHandleVerifier [0x0055E366+556598]\n\tOrdinal0 [0x0046286B+2173035]\n\tOrdinal0 [0x004675F8+2192888]\n\tOrdinal0 [0x004676E5+2193125]\n\tOrdinal0 [0x004711FC+2232828]\n\tBaseThreadInitThunk [0x7597FA29+25]\n\tRtlGetAppContainerNamedObjectPath [0x77467A9E+286]\n\tRtlGetAppContainerNamedObjectPath [0x77467A6E+238]\n"
     ]
    }
   ],
   "source": [
    "driver_actions.click(xpaths['genrate_confirm']) # try except wait"
   ]
  },
  {
   "cell_type": "code",
   "execution_count": 69,
   "metadata": {},
   "outputs": [],
   "source": [
    "creds_names = driver.find_elements('xpath', xpaths['cred_name'])\n",
    "creds_names = [i.text for i in creds_names]"
   ]
  },
  {
   "cell_type": "code",
   "execution_count": 70,
   "metadata": {},
   "outputs": [],
   "source": [
    "creds_info  = driver.find_elements('xpath', xpaths['cred_info'])\n",
    "creds_info = [i.text for i in creds_info]"
   ]
  },
  {
   "cell_type": "code",
   "execution_count": 71,
   "metadata": {},
   "outputs": [],
   "source": [
    "for ind, key in enumerate(creds_names):\n",
    "    creds[key] = creds_info[ind]"
   ]
  },
  {
   "cell_type": "code",
   "execution_count": 72,
   "metadata": {},
   "outputs": [],
   "source": [
    "driver_actions.click(xpaths['creds_saved_btn'])"
   ]
  },
  {
   "cell_type": "code",
   "execution_count": 73,
   "metadata": {},
   "outputs": [
    {
     "data": {
      "text/plain": [
       "{'API Key': 'W5RGW9rRTB72F0SFE9XPKFZ8h',\n",
       " 'API Key Secret': 'VRmODj6uBsV3OBBfs6GvlYkmQHi5VLTO48mbpmgameQnXKTeCh',\n",
       " 'Bearer Token': 'AAAAAAAAAAAAAAAAAAAAAHz%2FaAEAAAAAwoM%2B9sBw17dU7GxnO0cIHGFEiyQ%3D9PWWrtfBZqyeBTaH7OQA84W2uC9x4o8TUGgo3bUEnQ4qrOdEiE',\n",
       " 'Access Token': '1501035271340666881-uGwFHLSgscOVAq1L8w3YmT31P6nu0a',\n",
       " 'Access Token Secret': 'unOwoiV03QnFrp4ggx3IYtdaJBlskgaJ3s4wgv8fva9L4'}"
      ]
     },
     "execution_count": 73,
     "metadata": {},
     "output_type": "execute_result"
    }
   ],
   "source": [
    "creds"
   ]
  },
  {
   "cell_type": "code",
   "execution_count": null,
   "metadata": {},
   "outputs": [],
   "source": []
  }
 ],
 "metadata": {
  "interpreter": {
   "hash": "0147d7e3a0b6a13a2de65522d4d479347aa46c776a05be09bcd8f110fe5c1fe8"
  },
  "kernelspec": {
   "display_name": "Python 3.9.2 64-bit",
   "language": "python",
   "name": "python3"
  },
  "language_info": {
   "codemirror_mode": {
    "name": "ipython",
    "version": 3
   },
   "file_extension": ".py",
   "mimetype": "text/x-python",
   "name": "python",
   "nbconvert_exporter": "python",
   "pygments_lexer": "ipython3",
   "version": "3.10.2"
  },
  "orig_nbformat": 4
 },
 "nbformat": 4,
 "nbformat_minor": 2
}
